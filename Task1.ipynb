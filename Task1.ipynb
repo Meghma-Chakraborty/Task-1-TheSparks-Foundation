{
 "cells": [
  {
   "cell_type": "markdown",
   "id": "161f88ce",
   "metadata": {},
   "source": [
    "# Author: Meghma Chakraborty"
   ]
  },
  {
   "cell_type": "markdown",
   "id": "2c85ebd7",
   "metadata": {},
   "source": [
    "# <font color=green><u>Task #1: Prediction using supervised machine learning.</u> </font>"
   ]
  },
  {
   "cell_type": "markdown",
   "id": "e0e6abb0",
   "metadata": {},
   "source": [
    "# GRIP@ The Sparks Foundation"
   ]
  },
  {
   "cell_type": "markdown",
   "id": "8e45a37c",
   "metadata": {},
   "source": [
    "## <font color=blue> Motivation:Percentage prediction of a student based on the number of study hours.\n"
   ]
  },
  {
   "cell_type": "markdown",
   "id": "f8e8a152",
   "metadata": {},
   "source": [
    "## <font color=blue>This is a simple linear regression task as it involves just two variables.</font>"
   ]
  },
  {
   "cell_type": "markdown",
   "id": "51172f60",
   "metadata": {},
   "source": [
    "## Step 1:- Importing required libraries"
   ]
  },
  {
   "cell_type": "code",
   "execution_count": 1,
   "id": "bc26371b",
   "metadata": {},
   "outputs": [],
   "source": [
    "#importing the required libraries\n",
    "import pandas as pd\n",
    "import numpy as np\n",
    "import matplotlib.pyplot as plt"
   ]
  },
  {
   "cell_type": "markdown",
   "id": "a107f036",
   "metadata": {},
   "source": [
    "## Step 2:- Reading in the dataset from source"
   ]
  },
  {
   "cell_type": "code",
   "execution_count": 2,
   "id": "06096c4f",
   "metadata": {},
   "outputs": [
    {
     "data": {
      "text/html": [
       "<div>\n",
       "<style scoped>\n",
       "    .dataframe tbody tr th:only-of-type {\n",
       "        vertical-align: middle;\n",
       "    }\n",
       "\n",
       "    .dataframe tbody tr th {\n",
       "        vertical-align: top;\n",
       "    }\n",
       "\n",
       "    .dataframe thead th {\n",
       "        text-align: right;\n",
       "    }\n",
       "</style>\n",
       "<table border=\"1\" class=\"dataframe\">\n",
       "  <thead>\n",
       "    <tr style=\"text-align: right;\">\n",
       "      <th></th>\n",
       "      <th>Hours</th>\n",
       "      <th>Scores</th>\n",
       "    </tr>\n",
       "  </thead>\n",
       "  <tbody>\n",
       "    <tr>\n",
       "      <th>0</th>\n",
       "      <td>2.5</td>\n",
       "      <td>21</td>\n",
       "    </tr>\n",
       "    <tr>\n",
       "      <th>1</th>\n",
       "      <td>5.1</td>\n",
       "      <td>47</td>\n",
       "    </tr>\n",
       "    <tr>\n",
       "      <th>2</th>\n",
       "      <td>3.2</td>\n",
       "      <td>27</td>\n",
       "    </tr>\n",
       "    <tr>\n",
       "      <th>3</th>\n",
       "      <td>8.5</td>\n",
       "      <td>75</td>\n",
       "    </tr>\n",
       "    <tr>\n",
       "      <th>4</th>\n",
       "      <td>3.5</td>\n",
       "      <td>30</td>\n",
       "    </tr>\n",
       "    <tr>\n",
       "      <th>5</th>\n",
       "      <td>1.5</td>\n",
       "      <td>20</td>\n",
       "    </tr>\n",
       "    <tr>\n",
       "      <th>6</th>\n",
       "      <td>9.2</td>\n",
       "      <td>88</td>\n",
       "    </tr>\n",
       "    <tr>\n",
       "      <th>7</th>\n",
       "      <td>5.5</td>\n",
       "      <td>60</td>\n",
       "    </tr>\n",
       "    <tr>\n",
       "      <th>8</th>\n",
       "      <td>8.3</td>\n",
       "      <td>81</td>\n",
       "    </tr>\n",
       "    <tr>\n",
       "      <th>9</th>\n",
       "      <td>2.7</td>\n",
       "      <td>25</td>\n",
       "    </tr>\n",
       "  </tbody>\n",
       "</table>\n",
       "</div>"
      ],
      "text/plain": [
       "   Hours  Scores\n",
       "0    2.5      21\n",
       "1    5.1      47\n",
       "2    3.2      27\n",
       "3    8.5      75\n",
       "4    3.5      30\n",
       "5    1.5      20\n",
       "6    9.2      88\n",
       "7    5.5      60\n",
       "8    8.3      81\n",
       "9    2.7      25"
      ]
     },
     "execution_count": 2,
     "metadata": {},
     "output_type": "execute_result"
    }
   ],
   "source": [
    "#reading in the data from source\n",
    "dataset=pd.read_csv(\"http://bit.ly/w-data\")\n",
    "dataset.head(10)"
   ]
  },
  {
   "cell_type": "markdown",
   "id": "e806ac0a",
   "metadata": {},
   "source": [
    "## Step 3:- Discovering and Visualizing the data along with some statistical properties"
   ]
  },
  {
   "cell_type": "code",
   "execution_count": 3,
   "id": "eeafbe05",
   "metadata": {},
   "outputs": [
    {
     "name": "stdout",
     "output_type": "stream",
     "text": [
      "<class 'pandas.core.frame.DataFrame'>\n",
      "RangeIndex: 25 entries, 0 to 24\n",
      "Data columns (total 2 columns):\n",
      " #   Column  Non-Null Count  Dtype  \n",
      "---  ------  --------------  -----  \n",
      " 0   Hours   25 non-null     float64\n",
      " 1   Scores  25 non-null     int64  \n",
      "dtypes: float64(1), int64(1)\n",
      "memory usage: 528.0 bytes\n"
     ]
    }
   ],
   "source": [
    "#Discover and visualize the data to gain insights\n",
    "dataset.info()"
   ]
  },
  {
   "cell_type": "code",
   "execution_count": 4,
   "id": "ecb3cdbb",
   "metadata": {},
   "outputs": [
    {
     "data": {
      "text/html": [
       "<div>\n",
       "<style scoped>\n",
       "    .dataframe tbody tr th:only-of-type {\n",
       "        vertical-align: middle;\n",
       "    }\n",
       "\n",
       "    .dataframe tbody tr th {\n",
       "        vertical-align: top;\n",
       "    }\n",
       "\n",
       "    .dataframe thead th {\n",
       "        text-align: right;\n",
       "    }\n",
       "</style>\n",
       "<table border=\"1\" class=\"dataframe\">\n",
       "  <thead>\n",
       "    <tr style=\"text-align: right;\">\n",
       "      <th></th>\n",
       "      <th>Hours</th>\n",
       "      <th>Scores</th>\n",
       "    </tr>\n",
       "  </thead>\n",
       "  <tbody>\n",
       "    <tr>\n",
       "      <th>count</th>\n",
       "      <td>25.000000</td>\n",
       "      <td>25.000000</td>\n",
       "    </tr>\n",
       "    <tr>\n",
       "      <th>mean</th>\n",
       "      <td>5.012000</td>\n",
       "      <td>51.480000</td>\n",
       "    </tr>\n",
       "    <tr>\n",
       "      <th>std</th>\n",
       "      <td>2.525094</td>\n",
       "      <td>25.286887</td>\n",
       "    </tr>\n",
       "    <tr>\n",
       "      <th>min</th>\n",
       "      <td>1.100000</td>\n",
       "      <td>17.000000</td>\n",
       "    </tr>\n",
       "    <tr>\n",
       "      <th>25%</th>\n",
       "      <td>2.700000</td>\n",
       "      <td>30.000000</td>\n",
       "    </tr>\n",
       "    <tr>\n",
       "      <th>50%</th>\n",
       "      <td>4.800000</td>\n",
       "      <td>47.000000</td>\n",
       "    </tr>\n",
       "    <tr>\n",
       "      <th>75%</th>\n",
       "      <td>7.400000</td>\n",
       "      <td>75.000000</td>\n",
       "    </tr>\n",
       "    <tr>\n",
       "      <th>max</th>\n",
       "      <td>9.200000</td>\n",
       "      <td>95.000000</td>\n",
       "    </tr>\n",
       "  </tbody>\n",
       "</table>\n",
       "</div>"
      ],
      "text/plain": [
       "           Hours     Scores\n",
       "count  25.000000  25.000000\n",
       "mean    5.012000  51.480000\n",
       "std     2.525094  25.286887\n",
       "min     1.100000  17.000000\n",
       "25%     2.700000  30.000000\n",
       "50%     4.800000  47.000000\n",
       "75%     7.400000  75.000000\n",
       "max     9.200000  95.000000"
      ]
     },
     "execution_count": 4,
     "metadata": {},
     "output_type": "execute_result"
    }
   ],
   "source": [
    "#finding statistical properties of the data\n",
    "dataset.describe()"
   ]
  },
  {
   "cell_type": "code",
   "execution_count": 5,
   "id": "3376a4fd",
   "metadata": {},
   "outputs": [
    {
     "data": {
      "text/plain": [
       "(25, 2)"
      ]
     },
     "execution_count": 5,
     "metadata": {},
     "output_type": "execute_result"
    }
   ],
   "source": [
    "#finding number of rows and columns in the data\n",
    "dataset.shape"
   ]
  },
  {
   "cell_type": "code",
   "execution_count": 6,
   "id": "3fb8b84f",
   "metadata": {},
   "outputs": [
    {
     "data": {
      "text/plain": [
       "Hours     0\n",
       "Scores    0\n",
       "dtype: int64"
      ]
     },
     "execution_count": 6,
     "metadata": {},
     "output_type": "execute_result"
    }
   ],
   "source": [
    "#checking the existence of missing or null values\n",
    "dataset.isnull().sum()"
   ]
  },
  {
   "cell_type": "markdown",
   "id": "09cd9dd9",
   "metadata": {},
   "source": [
    "## Step 4:- Printing the Scatter plot to analyze the relationship between the variables"
   ]
  },
  {
   "cell_type": "code",
   "execution_count": 7,
   "id": "d2b701e6",
   "metadata": {},
   "outputs": [
    {
     "data": {
      "image/png": "[encoded data removed]",
      "text/plain": [
       "<Figure size 432x288 with 1 Axes>"
      ]
     },
     "metadata": {
      "needs_background": "light"
     },
     "output_type": "display_data"
    }
   ],
   "source": [
    "#Scatter diagram for hours vs. scores of students\n",
    "dataset.plot(x=\"Hours\",y=\"Scores\",style=\"o\")\n",
    "plt.xlabel(\"Hours Studied\")\n",
    "plt.ylabel(\"Obtained Scores\")\n",
    "plt.title(\"Scatter plot for Hours vs. Scores of the students\")\n",
    "plt.show()"
   ]
  },
  {
   "cell_type": "markdown",
   "id": "a2ef7f42",
   "metadata": {},
   "source": [
    "## Step 5:- Preprocessing the data "
   ]
  },
  {
   "cell_type": "code",
   "execution_count": 8,
   "id": "bb15394e",
   "metadata": {},
   "outputs": [
    {
     "data": {
      "text/html": [
       "<div>\n",
       "<style scoped>\n",
       "    .dataframe tbody tr th:only-of-type {\n",
       "        vertical-align: middle;\n",
       "    }\n",
       "\n",
       "    .dataframe tbody tr th {\n",
       "        vertical-align: top;\n",
       "    }\n",
       "\n",
       "    .dataframe thead th {\n",
       "        text-align: right;\n",
       "    }\n",
       "</style>\n",
       "<table border=\"1\" class=\"dataframe\">\n",
       "  <thead>\n",
       "    <tr style=\"text-align: right;\">\n",
       "      <th></th>\n",
       "      <th>Hours</th>\n",
       "    </tr>\n",
       "  </thead>\n",
       "  <tbody>\n",
       "    <tr>\n",
       "      <th>0</th>\n",
       "      <td>2.5</td>\n",
       "    </tr>\n",
       "    <tr>\n",
       "      <th>1</th>\n",
       "      <td>5.1</td>\n",
       "    </tr>\n",
       "    <tr>\n",
       "      <th>2</th>\n",
       "      <td>3.2</td>\n",
       "    </tr>\n",
       "    <tr>\n",
       "      <th>3</th>\n",
       "      <td>8.5</td>\n",
       "    </tr>\n",
       "    <tr>\n",
       "      <th>4</th>\n",
       "      <td>3.5</td>\n",
       "    </tr>\n",
       "    <tr>\n",
       "      <th>5</th>\n",
       "      <td>1.5</td>\n",
       "    </tr>\n",
       "    <tr>\n",
       "      <th>6</th>\n",
       "      <td>9.2</td>\n",
       "    </tr>\n",
       "    <tr>\n",
       "      <th>7</th>\n",
       "      <td>5.5</td>\n",
       "    </tr>\n",
       "    <tr>\n",
       "      <th>8</th>\n",
       "      <td>8.3</td>\n",
       "    </tr>\n",
       "    <tr>\n",
       "      <th>9</th>\n",
       "      <td>2.7</td>\n",
       "    </tr>\n",
       "  </tbody>\n",
       "</table>\n",
       "</div>"
      ],
      "text/plain": [
       "   Hours\n",
       "0    2.5\n",
       "1    5.1\n",
       "2    3.2\n",
       "3    8.5\n",
       "4    3.5\n",
       "5    1.5\n",
       "6    9.2\n",
       "7    5.5\n",
       "8    8.3\n",
       "9    2.7"
      ]
     },
     "execution_count": 8,
     "metadata": {},
     "output_type": "execute_result"
    }
   ],
   "source": [
    "#reshaping the data dividing it into attributes and labels\n",
    "x=dataset.iloc[:,:-1]\n",
    "x.head(10)"
   ]
  },
  {
   "cell_type": "code",
   "execution_count": 9,
   "id": "3938c181",
   "metadata": {},
   "outputs": [
    {
     "data": {
      "text/plain": [
       "0    21\n",
       "1    47\n",
       "2    27\n",
       "3    75\n",
       "4    30\n",
       "5    20\n",
       "6    88\n",
       "7    60\n",
       "8    81\n",
       "9    25\n",
       "Name: Scores, dtype: int64"
      ]
     },
     "execution_count": 9,
     "metadata": {},
     "output_type": "execute_result"
    }
   ],
   "source": [
    "y=dataset.iloc[:,1]\n",
    "y.head(10)"
   ]
  },
  {
   "cell_type": "markdown",
   "id": "a53734a5",
   "metadata": {},
   "source": [
    "## Step 6:- Splitting the data into Training and Testing datasets "
   ]
  },
  {
   "cell_type": "code",
   "execution_count": 10,
   "id": "b011ce2c",
   "metadata": {},
   "outputs": [],
   "source": [
    "#Splitting the data into training and testing sets and training the algorithm\n",
    "from sklearn.model_selection import train_test_split\n",
    "x_train,x_test,y_train,y_test=train_test_split(x,y,test_size=0.2,random_state=0)\n",
    "#test size=0.2 means 20 percent of the data is used for testing"
   ]
  },
  {
   "cell_type": "markdown",
   "id": "fa4c284d",
   "metadata": {},
   "source": [
    "## Step 7:- Fitting a Linear Regression Line to the Training dataset "
   ]
  },
  {
   "cell_type": "code",
   "execution_count": 11,
   "id": "2c1fd8aa",
   "metadata": {},
   "outputs": [],
   "source": [
    "#Plotting the regression line\n",
    "from sklearn.linear_model import LinearRegression\n",
    "model=LinearRegression()\n",
    "model.fit(x_train,y_train)\n",
    "y_predicted=model.predict(x_train)"
   ]
  },
  {
   "cell_type": "markdown",
   "id": "23464cee",
   "metadata": {},
   "source": [
    "## Step 8:- Finding the Equation of the Regression Line "
   ]
  },
  {
   "cell_type": "code",
   "execution_count": 12,
   "id": "2e8ae491",
   "metadata": {},
   "outputs": [
    {
     "name": "stdout",
     "output_type": "stream",
     "text": [
      "2.018160041434683\n",
      "[9.91065648]\n",
      "The equation of the fitted regression line is:\n",
      "Score= [9.91065648] Hours= 2.018160041434683\n"
     ]
    }
   ],
   "source": [
    "#Equation of regression line\n",
    "print(model.intercept_)\n",
    "print(model.coef_)\n",
    "lr_regression=model.coef_*x_train+model.intercept_\n",
    "print(\"The equation of the fitted regression line is:\")\n",
    "print(\"Score=\",model.coef_,\"Hours=\",model.intercept_)"
   ]
  },
  {
   "cell_type": "markdown",
   "id": "0959636e",
   "metadata": {},
   "source": [
    "## Step 9:- Plotting the Regression Line along with the data points "
   ]
  },
  {
   "cell_type": "code",
   "execution_count": 13,
   "id": "0f685a2b",
   "metadata": {},
   "outputs": [
    {
     "data": {
      "text/plain": [
       "Text(0.5, 1.0, 'Plot of fitted regression line for the given data')"
      ]
     },
     "execution_count": 13,
     "metadata": {},
     "output_type": "execute_result"
    },
    {
     "data": {
      "image/png": "[encoded data removed]",
      "text/plain": [
       "<Figure size 432x288 with 1 Axes>"
      ]
     },
     "metadata": {
      "needs_background": "light"
     },
     "output_type": "display_data"
    }
   ],
   "source": [
    "#Plotting the regression line\n",
    "plt.plot(x,y,\"o\",color=\"g\")\n",
    "plt.plot(x_train,lr_regression,color=\"b\")\n",
    "plt.xlabel(\"Hours\")\n",
    "plt.ylabel(\"Scores\")\n",
    "plt.title(\"Plot of fitted regression line for the given data\")"
   ]
  },
  {
   "cell_type": "markdown",
   "id": "0b4f854a",
   "metadata": {},
   "source": [
    "## Step 10:- Predicting the Scores based on the Testing dataset "
   ]
  },
  {
   "cell_type": "code",
   "execution_count": 14,
   "id": "4e09a7c8",
   "metadata": {},
   "outputs": [
    {
     "name": "stdout",
     "output_type": "stream",
     "text": [
      "The predicted scores based on the testing dataset is:  [16.88414476 33.73226078 75.357018   26.79480124 60.49103328]\n"
     ]
    }
   ],
   "source": [
    "#Prediction of scores based on testing dataset\n",
    "y_pred=model.predict(x_test)\n",
    "print(\"The predicted scores based on the testing dataset is: \",y_pred)"
   ]
  },
  {
   "cell_type": "code",
   "execution_count": 15,
   "id": "ca63569a",
   "metadata": {},
   "outputs": [
    {
     "data": {
      "text/plain": [
       "0.9454906892105356"
      ]
     },
     "execution_count": 15,
     "metadata": {},
     "output_type": "execute_result"
    }
   ],
   "source": [
    "#checking the accuracy of the model\n",
    "model.score(x_test,y_test) "
   ]
  },
  {
   "cell_type": "markdown",
   "id": "24d9fd09",
   "metadata": {},
   "source": [
    "The accuracy of the model is 94.5%."
   ]
  },
  {
   "cell_type": "code",
   "execution_count": 16,
   "id": "1d5b9bc9",
   "metadata": {},
   "outputs": [
    {
     "data": {
      "text/plain": [
       "array([51.57144244])"
      ]
     },
     "execution_count": 16,
     "metadata": {},
     "output_type": "execute_result"
    }
   ],
   "source": [
    "#a prediction of score based on 5 hours of study\n",
    "model.predict([[5]])"
   ]
  },
  {
   "cell_type": "markdown",
   "id": "7c2d54cf",
   "metadata": {},
   "source": [
    "## Step 11:- Comparing the Actual and the Predicted Scores "
   ]
  },
  {
   "cell_type": "code",
   "execution_count": 17,
   "id": "fb3eddbc",
   "metadata": {},
   "outputs": [
    {
     "data": {
      "text/html": [
       "<div>\n",
       "<style scoped>\n",
       "    .dataframe tbody tr th:only-of-type {\n",
       "        vertical-align: middle;\n",
       "    }\n",
       "\n",
       "    .dataframe tbody tr th {\n",
       "        vertical-align: top;\n",
       "    }\n",
       "\n",
       "    .dataframe thead th {\n",
       "        text-align: right;\n",
       "    }\n",
       "</style>\n",
       "<table border=\"1\" class=\"dataframe\">\n",
       "  <thead>\n",
       "    <tr style=\"text-align: right;\">\n",
       "      <th></th>\n",
       "      <th>Actual</th>\n",
       "      <th>Predicted</th>\n",
       "    </tr>\n",
       "  </thead>\n",
       "  <tbody>\n",
       "    <tr>\n",
       "      <th>5</th>\n",
       "      <td>20</td>\n",
       "      <td>16.884145</td>\n",
       "    </tr>\n",
       "    <tr>\n",
       "      <th>2</th>\n",
       "      <td>27</td>\n",
       "      <td>33.732261</td>\n",
       "    </tr>\n",
       "    <tr>\n",
       "      <th>19</th>\n",
       "      <td>69</td>\n",
       "      <td>75.357018</td>\n",
       "    </tr>\n",
       "    <tr>\n",
       "      <th>16</th>\n",
       "      <td>30</td>\n",
       "      <td>26.794801</td>\n",
       "    </tr>\n",
       "    <tr>\n",
       "      <th>11</th>\n",
       "      <td>62</td>\n",
       "      <td>60.491033</td>\n",
       "    </tr>\n",
       "  </tbody>\n",
       "</table>\n",
       "</div>"
      ],
      "text/plain": [
       "    Actual  Predicted\n",
       "5       20  16.884145\n",
       "2       27  33.732261\n",
       "19      69  75.357018\n",
       "16      30  26.794801\n",
       "11      62  60.491033"
      ]
     },
     "execution_count": 17,
     "metadata": {},
     "output_type": "execute_result"
    }
   ],
   "source": [
    "#Comparing actual and predicted scores of students\n",
    "df=pd.DataFrame({\"Actual\": y_test,\"Predicted\": y_pred})\n",
    "df"
   ]
  },
  {
   "cell_type": "markdown",
   "id": "5b3816e4",
   "metadata": {},
   "source": [
    "## Step 12:- Comparing the Actual and the Predicted Scores using a Bar Diagram "
   ]
  },
  {
   "cell_type": "code",
   "execution_count": 18,
   "id": "7224a5d3",
   "metadata": {},
   "outputs": [
    {
     "data": {
      "image/png": "[encoded data removed]",
      "text/plain": [
       "<Figure size 432x288 with 1 Axes>"
      ]
     },
     "metadata": {
      "needs_background": "light"
     },
     "output_type": "display_data"
    }
   ],
   "source": [
    "#Bar diagram showing actual and predicted scores of students\n",
    "df.plot(kind=\"bar\",color=(\"r\",\"b\"))\n",
    "plt.xlabel(\"Index\")\n",
    "plt.ylabel(\"Scores\")\n",
    "plt.title(\"Comparison between actual and predicted values of scores on basis of hours of study\")\n",
    "plt.show()"
   ]
  },
  {
   "cell_type": "markdown",
   "id": "ca37aaa5",
   "metadata": {},
   "source": [
    "## Step 13:- Evaluating the model for goodness of fit "
   ]
  },
  {
   "cell_type": "code",
   "execution_count": 21,
   "id": "4961839b",
   "metadata": {},
   "outputs": [
    {
     "name": "stdout",
     "output_type": "stream",
     "text": [
      "Mean Absolute Error: 4.183859899002975\n",
      "Mean Squared Error: 21.5987693072174\n",
      "Root Mean Squared Error: 4.6474476121003665\n",
      "R-2: 0.9454906892105356\n"
     ]
    }
   ],
   "source": [
    "#Evaluating the model peformance and predicting it's accuracy\n",
    "from sklearn import metrics\n",
    "print(\"Mean Absolute Error:\",metrics.mean_absolute_error(y_test,y_pred))\n",
    "print(\"Mean Squared Error:\",metrics.mean_squared_error(y_test,y_pred))\n",
    "print(\"Root Mean Squared Error:\",np.sqrt(metrics.mean_squared_error(y_test,y_pred)))\n",
    "print(\"R-2:\",metrics.r2_score(y_test,y_pred))"
   ]
  },
  {
   "cell_type": "markdown",
   "id": "e8a379e9",
   "metadata": {},
   "source": [
    "<b>In a model, the R-Squared value of the testing dataset gives the Goodness of Fit. In our model, the testing dataset has a R-Squared value of 94.5%,which is great. So,94.5% of the observed variation in Percentage score of the student can be explained by the number of  hours of study.</b>"
   ]
  },
  {
   "cell_type": "markdown",
   "id": "46db5358",
   "metadata": {},
   "source": [
    "## Step 14:- Predicting the Percentage Score of a student who studies for 9.25 hours a day"
   ]
  },
  {
   "cell_type": "code",
   "execution_count": 22,
   "id": "1d81efb4",
   "metadata": {},
   "outputs": [
    {
     "name": "stdout",
     "output_type": "stream",
     "text": [
      "The expected percentage score of a student who studies 9.25 hours per day is: [93.69173249]\n"
     ]
    }
   ],
   "source": [
    "#Prediction of percentage score of a student who studies for 9.25 hours per day\n",
    "print(\"The expected percentage score of a student who studies 9.25 hours per day is:\",model.predict([[9.25]]))"
   ]
  },
  {
   "cell_type": "markdown",
   "id": "1a7fb9bf",
   "metadata": {},
   "source": [
    "## Conclusion "
   ]
  },
  {
   "cell_type": "markdown",
   "id": "ca26c24b",
   "metadata": {},
   "source": [
    "<b>In this task, we have fitted a suitable linear regression model involving two variables for the Goodness of Fit.We have found that our model explains 94.5% of the variation in scores of the student(dependent variable) based on number of hours of study(independent variable).</b>"
   ]
  },
  {
   "cell_type": "markdown",
   "id": "7fb036e2",
   "metadata": {},
   "source": [
    "<b> We conclude from the fitted model that a student studying for 9.25 hours per day is expected to score 93.69%."
   ]
  },
  {
   "cell_type": "markdown",
   "id": "753d28e6",
   "metadata": {},
   "source": [
    "# Thank You."
   ]
  }
 ],
 "metadata": {
  "kernelspec": {
   "display_name": "Python 3 (ipykernel)",
   "language": "python",
   "name": "python3"
  },
  "language_info": {
   "codemirror_mode": {
    "name": "ipython",
    "version": 3
   },
   "file_extension": ".py",
   "mimetype": "text/x-python",
   "name": "python",
   "nbconvert_exporter": "python",
   "pygments_lexer": "ipython3",
   "version": "3.9.7"
  }
 },
 "nbformat": 4,
 "nbformat_minor": 5
}
